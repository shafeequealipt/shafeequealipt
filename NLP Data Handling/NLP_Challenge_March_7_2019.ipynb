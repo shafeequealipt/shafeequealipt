{
 "cells": [
  {
   "cell_type": "markdown",
   "metadata": {},
   "source": [
    "# NLP Challenge"
   ]
  },
  {
   "cell_type": "code",
   "execution_count": 1,
   "metadata": {},
   "outputs": [],
   "source": [
    "import re\n",
    "import time\n",
    "from collections import Counter\n",
    "from itertools import groupby"
   ]
  },
  {
   "cell_type": "code",
   "execution_count": 2,
   "metadata": {},
   "outputs": [],
   "source": [
    "import nltk\n",
    "import nltk.tag.stanford as st\n",
    "from nltk.corpus import stopwords\n",
    "from nltk.tokenize import RegexpTokenizer\n",
    "from nltk.tokenize import word_tokenize\n",
    "from openpyxl import Workbook\n",
    "from openpyxl import load_workbook"
   ]
  },
  {
   "cell_type": "code",
   "execution_count": 3,
   "metadata": {},
   "outputs": [],
   "source": [
    "def remove_work_notes(data_string):\n",
    "    invalid_string = 'work notes'\n",
    "    data_string_lines = data_string.splitlines()\n",
    "    cleaned_string_lines = [dataLine for dataLine in data_string_lines if\n",
    "                            invalid_string.lower() not in dataLine.lower()]\n",
    "    return '\\n'.join(cleaned_string_lines)"
   ]
  },
  {
   "cell_type": "code",
   "execution_count": 4,
   "metadata": {},
   "outputs": [],
   "source": [
    "def remove_hyperlinks(data_string):\n",
    "    return re.sub(r'\\w+:\\/{2}[\\d\\w-]+(\\.[\\d\\w-]+)*(?:(?:\\/[^\\s/]*))*', '', data_string)"
   ]
  },
  {
   "cell_type": "code",
   "execution_count": 5,
   "metadata": {},
   "outputs": [],
   "source": [
    "def remove_stop_words(data_string):\n",
    "    stop_words = set(stopwords.words('english'))\n",
    "    word_tokens = tokenizer.tokenize(data_string.lower())\n",
    "    filtered_sentence = [w for w in word_tokens if w not in stop_words]\n",
    "    return filtered_sentence"
   ]
  },
  {
   "cell_type": "code",
   "execution_count": 6,
   "metadata": {},
   "outputs": [],
   "source": [
    "def fetch_kb_references(data_string):\n",
    "    regex = r'KB\\d{4,}'\n",
    "    matches = re.findall(regex, data_string, re.MULTILINE)\n",
    "    return matches, len(matches) > 0"
   ]
  },
  {
   "cell_type": "code",
   "execution_count": 7,
   "metadata": {},
   "outputs": [],
   "source": [
    "def find_person_names(data_string):\n",
    "    word_tokens = word_tokenize(data_string)\n",
    "    classified_text = tagger.tag(word_tokens)\n",
    "    person_list = []\n",
    "    for tag, chunk in groupby(classified_text, lambda x: x[1]):\n",
    "        if tag == \"PERSON\":\n",
    "            person_list.append(\" \".join(w for w, t in chunk))\n",
    "    return person_list"
   ]
  },
  {
   "cell_type": "code",
   "execution_count": 8,
   "metadata": {},
   "outputs": [],
   "source": [
    "def generate_grams(data_string):\n",
    "    try:\n",
    "        tokens = tokenizer.tokenize(data_string.lower())\n",
    "        bigram = nltk.bigrams(tokens)\n",
    "        trigram = nltk.trigrams(tokens)\n",
    "        return find_top10_words(data_string), Counter(bigram).most_common(10), Counter(trigram).most_common(10)\n",
    "    except Exception as e:\n",
    "        return '', '', ''"
   ]
  },
  {
   "cell_type": "code",
   "execution_count": 9,
   "metadata": {},
   "outputs": [],
   "source": [
    "def remove_special_characters(data_string):\n",
    "    regex = r'[^a-zA-Z0-9\\s]{4,}'\n",
    "    data_string = re.sub(regex, ' ', data_string)\n",
    "    regex = r'^[-=]'\n",
    "    return re.sub(regex, '', data_string)"
   ]
  },
  {
   "cell_type": "code",
   "execution_count": 10,
   "metadata": {},
   "outputs": [],
   "source": [
    "def find_top10_words(data_string):\n",
    "    words = re.findall(r'\\w+', data_string.lower())\n",
    "    return Counter(words).most_common(10)"
   ]
  },
  {
   "cell_type": "code",
   "execution_count": 11,
   "metadata": {},
   "outputs": [],
   "source": [
    "def process_data(input_data_string):\n",
    "    output_data = remove_work_notes(input_data_string)\n",
    "    output_data = remove_hyperlinks(output_data)\n",
    "    output_data = remove_special_characters(output_data)\n",
    "    stop_words_removed_string = ' '.join(remove_stop_words(output_data))\n",
    "    # preparing output parameters\n",
    "    kb_references, has_kb_reference = fetch_kb_references(input_data_string)\n",
    "    kb_info = 'No'\n",
    "    if has_kb_reference:\n",
    "        kb_info = 'Yes ' + str(kb_references)\n",
    "    person_names = find_person_names(input_data_string)\n",
    "    uni, bi, tri = generate_grams(stop_words_removed_string)\n",
    "    return {\n",
    "        'Data': output_data,\n",
    "        'KB Reference': kb_info,\n",
    "        'Person Names': ', '.join(set(person_names)),\n",
    "        'Unigram Frequency': uni,\n",
    "        \"Bigram Frequency\": bi,\n",
    "        \"Trigram Frequency\": tri\n",
    "    }"
   ]
  },
  {
   "cell_type": "code",
   "execution_count": 12,
   "metadata": {},
   "outputs": [],
   "source": [
    "print('Processing file.')\n",
    "# setting parameters\n",
    "inputFilePath = 'NLP_Challenge_07_Mar.xlsx'\n",
    "inputSheetName = 'Sheet1'\n",
    "inputDataColumn = 'A'\n",
    "tableHasHeader = True\n",
    "outputFilePath = 'NLP_Challenge_07_Mar_Output.xlsx'\n",
    "outputSheetName = 'Sheet1'\n",
    "tokenizer = RegexpTokenizer(r'\\w+')\n",
    "# ner settings\n",
    "gzPath = 'stanford-ner\\\\english.all.3class.distsim.crf.ser.gz'\n",
    "jarPath = 'stanford-ner\\\\stanford-ner.jar'\n",
    "tagger = st.StanfordNERTagger(gzPath, jarPath)"
   ]
  },
  {
   "cell_type": "code",
   "execution_count": 13,
   "metadata": {},
   "outputs": [],
   "source": [
    "# read input data\n",
    "print('Reading input data.')\n",
    "inputWorkbook = load_workbook(filename=inputFilePath, read_only=False)\n",
    "inputWorksheet = inputWorkbook[inputSheetName]\n",
    "inputWorksheetRowCount = inputWorksheet.max_row\n",
    "inputData = [col.value for col in inputWorksheet['A']]\n",
    "if tableHasHeader and len(inputData) > 0:\n",
    "    inputData.pop(0)\n",
    "print('Processing input data.')\n",
    "processedData = [process_data(data) for data in inputData]"
   ]
  },
  {
   "cell_type": "code",
   "execution_count": 14,
   "metadata": {},
   "outputs": [],
   "source": [
    "print('Writing processed data to output excel file.')\n",
    "outputWorkbook = Workbook()\n",
    "outputSheet = outputWorkbook.create_sheet('Output Data', 0)\n",
    "outputSheet.append(list(processedData[0].keys()))"
   ]
  },
  {
   "cell_type": "code",
   "execution_count": 15,
   "metadata": {
    "scrolled": true
   },
   "outputs": [],
   "source": [
    "for data in processedData:\n",
    "    outputSheet.append([str(data[k]) for k in data])"
   ]
  },
  {
   "cell_type": "code",
   "execution_count": 16,
   "metadata": {},
   "outputs": [],
   "source": [
    "time_string = time.strftime(\"%Y%m%d_%H%M%S\")\n",
    "outputWorkbook.save(f'output_at_{time_string}.xlsx')\n",
    "print('Processing completed.')"
   ]
  }
 ],
 "metadata": {
  "kernelspec": {
   "display_name": "Python 3",
   "language": "python",
   "name": "python3"
  },
  "language_info": {
   "codemirror_mode": {
    "name": "ipython",
    "version": 3
   },
   "file_extension": ".py",
   "mimetype": "text/x-python",
   "name": "python",
   "nbconvert_exporter": "python",
   "pygments_lexer": "ipython3",
   "version": "3.7.0"
  }
 },
 "nbformat": 4,
 "nbformat_minor": 2
}
